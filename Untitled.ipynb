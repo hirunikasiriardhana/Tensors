{
 "cells": [
  {
   "cell_type": "markdown",
   "id": "5e798bec-dafe-41df-98d7-ab006885b036",
   "metadata": {},
   "source": [
    "# 01.0D Tensors"
   ]
  },
  {
   "cell_type": "code",
   "execution_count": 1,
   "id": "bf47f328-8ab7-4275-bae5-c45159758bd4",
   "metadata": {},
   "outputs": [],
   "source": [
    "import numpy as np #use for numerical array"
   ]
  },
  {
   "cell_type": "code",
   "execution_count": 3,
   "id": "d4b9db42-a726-4314-84c6-3c044c8bf916",
   "metadata": {},
   "outputs": [],
   "source": [
    "a=np.array(2) #store variable"
   ]
  },
  {
   "cell_type": "code",
   "execution_count": 4,
   "id": "6a033c43-0a7d-4302-8196-f6c0ecc25ee6",
   "metadata": {},
   "outputs": [
    {
     "data": {
      "text/plain": [
       "array(2)"
      ]
     },
     "execution_count": 4,
     "metadata": {},
     "output_type": "execute_result"
    }
   ],
   "source": [
    "a"
   ]
  },
  {
   "cell_type": "code",
   "execution_count": 5,
   "id": "1ce61127-b171-4231-b131-82cba595ba3f",
   "metadata": {},
   "outputs": [
    {
     "data": {
      "text/plain": [
       "0"
      ]
     },
     "execution_count": 5,
     "metadata": {},
     "output_type": "execute_result"
    }
   ],
   "source": [
    "a.ndim #number of dimension"
   ]
  },
  {
   "cell_type": "markdown",
   "id": "dce7b05e-a995-4822-8dfe-26796f7e29f4",
   "metadata": {},
   "source": [
    "# 02.1-D Tensor"
   ]
  },
  {
   "cell_type": "code",
   "execution_count": 2,
   "id": "ea10f718-0086-4139-9fc3-b07e1928751f",
   "metadata": {},
   "outputs": [],
   "source": [
    "import numpy as np\n",
    "arr=np.array([1,2,3,4])#store the variable"
   ]
  },
  {
   "cell_type": "code",
   "execution_count": 3,
   "id": "8d512988-61b2-4513-a17c-22d5c3dc6662",
   "metadata": {},
   "outputs": [
    {
     "data": {
      "text/plain": [
       "array([1, 2, 3, 4])"
      ]
     },
     "execution_count": 3,
     "metadata": {},
     "output_type": "execute_result"
    }
   ],
   "source": [
    "arr"
   ]
  },
  {
   "cell_type": "code",
   "execution_count": 4,
   "id": "9516c381-76b3-41fc-b336-c537fbe555fb",
   "metadata": {},
   "outputs": [
    {
     "data": {
      "text/plain": [
       "1"
      ]
     },
     "execution_count": 4,
     "metadata": {},
     "output_type": "execute_result"
    }
   ],
   "source": [
    "arr.ndim #no of dimension"
   ]
  },
  {
   "cell_type": "markdown",
   "id": "651254f0-3269-4339-a16c-758485e1ad29",
   "metadata": {},
   "source": [
    "# 03.2-D Tensor"
   ]
  },
  {
   "cell_type": "code",
   "execution_count": 5,
   "id": "7269683a-0cd9-4eef-b967-2d57676ca73f",
   "metadata": {},
   "outputs": [],
   "source": [
    "mat=np.array([[1,2,3],[4,5,6],[7,8,9]])"
   ]
  },
  {
   "cell_type": "code",
   "execution_count": 6,
   "id": "79b770e2-1aae-4e24-9b23-dff59608489e",
   "metadata": {},
   "outputs": [
    {
     "data": {
      "text/plain": [
       "array([[1, 2, 3],\n",
       "       [4, 5, 6],\n",
       "       [7, 8, 9]])"
      ]
     },
     "execution_count": 6,
     "metadata": {},
     "output_type": "execute_result"
    }
   ],
   "source": [
    "mat #no of rows and columns"
   ]
  },
  {
   "cell_type": "code",
   "execution_count": 7,
   "id": "79c86c9b-e984-420f-9b1b-97bf5979a988",
   "metadata": {},
   "outputs": [
    {
     "data": {
      "text/plain": [
       "2"
      ]
     },
     "execution_count": 7,
     "metadata": {},
     "output_type": "execute_result"
    }
   ],
   "source": [
    "mat.ndim # no of dimensions 2D array"
   ]
  },
  {
   "cell_type": "markdown",
   "id": "71d176e1-01cc-4d03-ab9d-b1ac68ee5d86",
   "metadata": {},
   "source": [
    "# 04."
   ]
  }
 ],
 "metadata": {
  "kernelspec": {
   "display_name": "Python 3 (ipykernel)",
   "language": "python",
   "name": "python3"
  },
  "language_info": {
   "codemirror_mode": {
    "name": "ipython",
    "version": 3
   },
   "file_extension": ".py",
   "mimetype": "text/x-python",
   "name": "python",
   "nbconvert_exporter": "python",
   "pygments_lexer": "ipython3",
   "version": "3.11.7"
  }
 },
 "nbformat": 4,
 "nbformat_minor": 5
}
